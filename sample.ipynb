{
 "cells": [
  {
   "cell_type": "code",
   "execution_count": 70,
   "metadata": {},
   "outputs": [
    {
     "name": "stdout",
     "output_type": "stream",
     "text": [
      "The autoreload extension is already loaded. To reload it, use:\n",
      "  %reload_ext autoreload\n"
     ]
    }
   ],
   "source": [
    "%load_ext autoreload\n",
    "%autoreload 2"
   ]
  },
  {
   "cell_type": "code",
   "execution_count": 19,
   "metadata": {},
   "outputs": [],
   "source": [
    "from selenium import webdriver\n",
    "from selenium.webdriver.chrome.service import Service\n",
    "from selenium.webdriver.chrome.options import Options\n",
    "from webdriver_manager.chrome import ChromeDriverManager\n",
    "\n",
    "# Wait for and click the \"Accept all\" button\n",
    "from selenium.webdriver.common.by import By\n",
    "from selenium.webdriver.support.ui import WebDriverWait\n",
    "from selenium.webdriver.support import expected_conditions as EC\n",
    "\n",
    "\n",
    "# Set up Chrome options\n",
    "chrome_options = Options()\n",
    "# chrome_options.add_argument(\"--headless\")  # Run in headless mode (no GUI)\n",
    "\n",
    "\n",
    "# Initialize the Chrome driver\n",
    "driver = webdriver.Chrome(service=Service(ChromeDriverManager().install()), options=chrome_options)\n",
    "# Configure Chrome to appear as a regular browser\n",
    "chrome_options.add_argument('--disable-blink-features=AutomationControlled')\n",
    "chrome_options.add_experimental_option('excludeSwitches', ['enable-automation'])\n",
    "chrome_options.add_experimental_option('useAutomationExtension', False)\n",
    "\n",
    "\n",
    "# Navigate to Google Flights\n",
    "# url = 'https://www.google.com/travel/flights'\n",
    "# url = \"https://www.kayak.com/flights\"\n",
    "# url = \"https://docs.google.com/spreadsheets/d/1iwaV2GmQPZcyMWwxZu-rGPEIzo-Ac7j_rFslLXqVjok/edit?usp=sharing\"\n",
    "url = 'https://groq.com/pricing/'\n",
    "\n",
    "driver.get(url)\n",
    "\n",
    "# Get the page HTML\n",
    "\n",
    "# try:\n",
    "#     accept_button = WebDriverWait(driver, 1).until(\n",
    "#         EC.element_to_be_clickable((By.XPATH, \"//span[text()='Accept all']\"))\n",
    "#     )\n",
    "#     accept_button.click()\n",
    "# except:\n",
    "#     print(\"No accept button found or already accepted\")\n",
    "\n",
    "\n",
    "# Close the browser\n",
    "# driver.quit()"
   ]
  },
  {
   "cell_type": "code",
   "execution_count": 22,
   "metadata": {},
   "outputs": [
    {
     "name": "stdout",
     "output_type": "stream",
     "text": [
      "Screenshot saved to: temp/screenshot.png\n"
     ]
    }
   ],
   "source": [
    "# Get the image\n",
    "\n",
    "# Get the HTML content\n",
    "html_content = driver.page_source\n",
    "\n",
    "# Take a screenshot and save it\n",
    "screenshot_path = 'temp/screenshot.png'\n",
    "driver.save_screenshot(screenshot_path)\n",
    "print(f'Screenshot saved to: {screenshot_path}')"
   ]
  },
  {
   "cell_type": "code",
   "execution_count": null,
   "metadata": {},
   "outputs": [],
   "source": []
  },
  {
   "cell_type": "code",
   "execution_count": 23,
   "metadata": {},
   "outputs": [],
   "source": [
    "# Format and save HTML content to file\n",
    "from bs4 import BeautifulSoup\n",
    "\n",
    "\n",
    "def save_formatted_html(html_content, output_file_name):\n",
    "\t\"\"\"\n",
    "\tFormat HTML content using BeautifulSoup and save to file\n",
    "\n",
    "\tArgs:\n",
    "\t    html_content (str): Raw HTML content to format\n",
    "\t    output_file_name (str): Name of the file where formatted HTML will be saved\n",
    "\t\"\"\"\n",
    "\t# Format HTML with BeautifulSoup for nice indentation\n",
    "\tsoup = BeautifulSoup(html_content, 'html.parser')\n",
    "\tformatted_html = soup.prettify()\n",
    "\n",
    "\t# Save formatted HTML to file\n",
    "\twith open('temp/' + output_file_name, 'w', encoding='utf-8') as f:\n",
    "\t\tf.write(formatted_html)"
   ]
  },
  {
   "cell_type": "code",
   "execution_count": 24,
   "metadata": {},
   "outputs": [
    {
     "name": "stdout",
     "output_type": "stream",
     "text": [
      "Pure html cost:  $0.20 Tokens:  40,469\n",
      "Cleaned html cost:  $0.04 Tokens:  7,727\n"
     ]
    }
   ],
   "source": [
    "from tokencost import calculate_prompt_cost, count_string_tokens\n",
    "from src.state_manager.html_cleaner import cleanup_html\n",
    "\n",
    "# Clean up html\n",
    "# print(html_content)\n",
    "html_content\n",
    "\n",
    "# model = \"gpt-4o\"\n",
    "model = 'gpt-4o'\n",
    "\n",
    "print(\n",
    "\t'Pure html cost: ',\n",
    "\tf'${calculate_prompt_cost(html_content, model):,.2f}',\n",
    "\t'Tokens: ',\n",
    "\tf'{count_string_tokens(html_content, model):,}',\n",
    ")\n",
    "\n",
    "cleaned_html = cleanup_html(html_content)\n",
    "save_formatted_html(cleaned_html, 'cleaned_html.html')\n",
    "\n",
    "print(\n",
    "\t'Cleaned html cost: ',\n",
    "\tf'${calculate_prompt_cost(cleaned_html, model):,.2f}',\n",
    "\t'Tokens: ',\n",
    "\tf'{count_string_tokens(cleaned_html, model):,}',\n",
    ")"
   ]
  },
  {
   "cell_type": "code",
   "execution_count": null,
   "metadata": {},
   "outputs": [],
   "source": []
  },
  {
   "cell_type": "code",
   "execution_count": null,
   "metadata": {},
   "outputs": [],
   "source": []
  }
 ],
 "metadata": {
  "kernelspec": {
   "display_name": ".venv",
   "language": "python",
   "name": "python3"
  },
  "language_info": {
   "codemirror_mode": {
    "name": "ipython",
    "version": 3
   },
   "file_extension": ".py",
   "mimetype": "text/x-python",
   "name": "python",
   "nbconvert_exporter": "python",
   "pygments_lexer": "ipython3",
   "version": "3.11.4"
  }
 },
 "nbformat": 4,
 "nbformat_minor": 2
}
